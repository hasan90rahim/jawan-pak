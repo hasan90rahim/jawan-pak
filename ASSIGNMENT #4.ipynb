{
 "cells": [
  {
   "cell_type": "markdown",
   "id": "20479e7d",
   "metadata": {},
   "source": [
    "# JAWAN PAKISTAN PYTHON ASSSIGNMENT NO 4"
   ]
  },
  {
   "cell_type": "markdown",
   "id": "a3ae8433",
   "metadata": {},
   "source": [
    "Q2:: WRITE A PROGRAM TO CHECK IF THERE IS ANY NUMERIC VALUE IN LIST USING FOR LOOP"
   ]
  },
  {
   "cell_type": "code",
   "execution_count": 12,
   "id": "bd51a54f",
   "metadata": {},
   "outputs": [
    {
     "name": "stdout",
     "output_type": "stream",
     "text": [
      "integer variable:: [1, 2, 6]\n",
      "other variable:: ['r', True, 'p', 'f']\n"
     ]
    }
   ],
   "source": [
    "lis=[1,2,\"r\",True,\"p\",\"f\",6]\n",
    "g=[] # empty list for integer\n",
    "f=[] # empty list for other data type\n",
    "for x in lis:\n",
    "    if type(x)==int:\n",
    "        g.append(x)\n",
    "    else:\n",
    "        f.append(x)\n",
    "###############################################\n",
    "print(\"integer variable::\",g);\n",
    "print(\"other variable::\",f);\n",
    "        \n",
    "\n",
    "        "
   ]
  },
  {
   "cell_type": "markdown",
   "id": "11ec8011",
   "metadata": {},
   "source": [
    "Q6:: WRITE A PROGRAM IN PYTHON TO CHECK IF A GIVEN KEY IS ALREADY EXISTS IN A DICTIONARY::"
   ]
  },
  {
   "cell_type": "code",
   "execution_count": 19,
   "id": "98a95a92",
   "metadata": {},
   "outputs": [
    {
     "data": {
      "text/plain": [
       "{'NAME': 'HASAN UR RAHIM',\n",
       " 'STUDENT': 'JAWAN PAKISTAN',\n",
       " 5: 'hello',\n",
       " 6: 'king',\n",
       " 'CLASS': 5}"
      ]
     },
     "execution_count": 19,
     "metadata": {},
     "output_type": "execute_result"
    }
   ],
   "source": [
    "dic={\"NAME\":\"HASAN UR RAHIM\",\"STUDENT\":\"JAWAN PAKISTAN\",5:\"hello\",6:\"king\",\"CLASS\":5}\n",
    "dic"
   ]
  },
  {
   "cell_type": "code",
   "execution_count": 20,
   "id": "9464fffc",
   "metadata": {},
   "outputs": [
    {
     "data": {
      "text/plain": [
       "'HASAN UR RAHIM'"
      ]
     },
     "execution_count": 20,
     "metadata": {},
     "output_type": "execute_result"
    }
   ],
   "source": [
    "dic[\"NAME\"]"
   ]
  },
  {
   "cell_type": "code",
   "execution_count": 21,
   "id": "cb3a5157",
   "metadata": {},
   "outputs": [],
   "source": [
    "#formula\n",
    "#dic.get(key,massage)"
   ]
  },
  {
   "cell_type": "code",
   "execution_count": 84,
   "id": "8a0d30b4",
   "metadata": {},
   "outputs": [
    {
     "name": "stdout",
     "output_type": "stream",
     "text": [
      "ENTER THE KEY:::NAME\n"
     ]
    },
    {
     "data": {
      "text/plain": [
       "'HASAN UR RAHIM'"
      ]
     },
     "execution_count": 84,
     "metadata": {},
     "output_type": "execute_result"
    }
   ],
   "source": [
    "user=str(input(\"ENTER THE KEY:::\"))\n",
    "dic.get(user,\"KEY NOT FOUND\")"
   ]
  },
  {
   "cell_type": "markdown",
   "id": "64bece8f",
   "metadata": {},
   "source": [
    "Q3:: WRITE A PYTHON PROGRAM TO ADD A KEY TO A DICTIONARY"
   ]
  },
  {
   "cell_type": "code",
   "execution_count": 43,
   "id": "438a6fba",
   "metadata": {},
   "outputs": [
    {
     "name": "stdout",
     "output_type": "stream",
     "text": [
      "before we add a key or value {1: 'hello', 'class': 5, 'Name': 'hasan'}\n",
      "add a key and value in dict\n",
      "after we added a key and value in dictionary {1: 'hello', 'class': 5, 'Name': 'hasan', 'play': 'circket'}\n",
      "after replacing a value of key {1: 'hello', 'class': 'hi', 'Name': 'hasan', 'play': 'circket'}\n",
      "after replacing a key in dict {'class': 'hi', 'Name': 'hasan', 'play': 'circket', 'king': 'hello'}\n"
     ]
    }
   ],
   "source": [
    "e={1:'hello',\"class\":5,\"Name\":\"hasan\"}\n",
    "#formula to add key and value is \n",
    "# e[key]=[value]\n",
    "print(\"before we add a key or value\",e);\n",
    "######################################\n",
    "print(\"add a key and value in dict\")\n",
    "e[\"play\"]=\"circket\" # here we add a key and value in dict\n",
    "print(\"after we added a key and value in dictionary\",e)\n",
    "#######################################\n",
    "# replacing a value of key in dict\n",
    "e[\"class\"]=\"hi\" # here we replace a value \"class=5\" t0 class =hi\n",
    "print(\"after replacing a value of key\",e)\n",
    "# replacing a key in dict\n",
    "e[\"king\"]=e.pop(1) # here we replace a key of \"1:hello\" to \"king\":\"hello\"\n",
    "print(\"after replacing a key in dict\",e);\n",
    "\n"
   ]
  },
  {
   "cell_type": "markdown",
   "id": "d0227b99",
   "metadata": {},
   "source": [
    "Q1::: MAKE A CALCULATOR USING PYTHON ADDITION SUBSTRATION MULTIPLICATION DIVISION::"
   ]
  },
  {
   "cell_type": "code",
   "execution_count": 49,
   "id": "be36e3f5",
   "metadata": {},
   "outputs": [
    {
     "name": "stdout",
     "output_type": "stream",
     "text": [
      "WELCOME TO CALCULATOR\n",
      "PRESS 1 TO ADD A NUMBER\n",
      "PRESS 2 TO SUBSTRACT A NUMBER\n",
      "PRESS 3 TO MULTIPLY A NUMBER\n",
      "PRESS 4 TO DIVIDE A NUMBER\n",
      "ENTER THE NUMBER YOU WANT CALCULATE::3\n",
      "ENTER A FIRST NUMBER YOU WANT TO MULTIPLY::5\n",
      "ENTER A SECOUND NUMBER YOU WANT TO MULTIPLY::5\n",
      "after multiply the result is 25\n"
     ]
    }
   ],
   "source": [
    "print(\"WELCOME TO CALCULATOR\");\n",
    "print(\"PRESS 1 TO ADD A NUMBER\");\n",
    "print(\"PRESS 2 TO SUBSTRACT A NUMBER\");\n",
    "print(\"PRESS 3 TO MULTIPLY A NUMBER\");\n",
    "print(\"PRESS 4 TO DIVIDE A NUMBER\");\n",
    "option=int(input(\"ENTER THE NUMBER YOU WANT CALCULATE::\"));\n",
    "if option==1:\n",
    "    num1=int(input(\"ENTER A FIRST NUMBER YOU WANT TO ADD::\"));\n",
    "    num2=int(input(\"ENTER A SECOUND NUMBER YOU WANT TO ADD::\"));\n",
    "    num=num1+num2\n",
    "    print(\"after addition the result is\",num);\n",
    "elif option==2:\n",
    "    num3=int(input(\"ENTER A FIRST NUMBER YOU WANT TO SUBSTRACT::\"));\n",
    "    num4=int(input(\"ENTER A SECOUND NUMBER YOU WANT TO SUBSTRACT::\"));\n",
    "    sub=num3+num4\n",
    "    print(\"after substract the result is\",sub);\n",
    "elif option==3:\n",
    "    num5=int(input(\"ENTER A FIRST NUMBER YOU WANT TO MULTIPLY::\"));\n",
    "    num6=int(input(\"ENTER A SECOUND NUMBER YOU WANT TO MULTIPLY::\"));\n",
    "    mul=num5*num6\n",
    "    print(\"after multiply the result is\",mul);\n",
    "elif option==4:\n",
    "    num7=int(input(\"ENTER A FIRST NUMBER YOU WANT TO DIVIDE::\"));\n",
    "    num8=int(input(\"ENTER A SECOUND NUMBER YOU WANT TO DIVIDE::\"));\n",
    "    div=num7/num8\n",
    "    print(\"after divide the result is\",div);\n",
    "else:\n",
    "    print(\"please give a valid key\")\n",
    "\n",
    "\n",
    "    \n",
    "\n",
    "    \n",
    "\n"
   ]
  },
  {
   "cell_type": "markdown",
   "id": "b56f8d64",
   "metadata": {},
   "source": [
    "Q5::WRITE A PROGRAM TO IDENTIY A DUPLICATE VALUE IN LIST"
   ]
  },
  {
   "cell_type": "code",
   "execution_count": 85,
   "id": "ea2167d4",
   "metadata": {},
   "outputs": [
    {
     "name": "stdout",
     "output_type": "stream",
     "text": [
      "THIS IS A DUPLICALTE VALUE IN THIS LIST [9, 9, 'r', 'r']\n"
     ]
    }
   ],
   "source": [
    "r=[9,0,9,4,\"r\",7,\"r\",\"p\"]\n",
    "k=[]\n",
    "j=[]\n",
    "for x in r:\n",
    "    if r.count(x)>1:\n",
    "        k.append(x)\n",
    "print(\"THIS IS A DUPLICALTE VALUE IN THIS LIST\",k)\n",
    "    "
   ]
  },
  {
   "cell_type": "markdown",
   "id": "e96ddb96",
   "metadata": {},
   "source": [
    "Q4::WRITE A PROGRAM TO SUM ALL THE NUMERIC ITEMS IN A DICTIONARY\n"
   ]
  },
  {
   "cell_type": "code",
   "execution_count": 86,
   "id": "bc0d69c1",
   "metadata": {},
   "outputs": [
    {
     "name": "stdout",
     "output_type": "stream",
     "text": [
      "2000\n"
     ]
    }
   ],
   "source": [
    "hello={\"data\":400,\"machine_learning\":600,\"deep_learning\":1000}\n",
    "print(sum(hello.values()))"
   ]
  },
  {
   "cell_type": "code",
   "execution_count": null,
   "id": "135209c0",
   "metadata": {},
   "outputs": [],
   "source": []
  },
  {
   "cell_type": "code",
   "execution_count": null,
   "id": "70c04323",
   "metadata": {},
   "outputs": [],
   "source": []
  },
  {
   "cell_type": "code",
   "execution_count": null,
   "id": "2c431d14",
   "metadata": {},
   "outputs": [],
   "source": []
  },
  {
   "cell_type": "code",
   "execution_count": null,
   "id": "8cc37ef5",
   "metadata": {},
   "outputs": [],
   "source": []
  },
  {
   "cell_type": "code",
   "execution_count": null,
   "id": "2c845c8a",
   "metadata": {},
   "outputs": [],
   "source": []
  }
 ],
 "metadata": {
  "kernelspec": {
   "display_name": "Python 3",
   "language": "python",
   "name": "python3"
  },
  "language_info": {
   "codemirror_mode": {
    "name": "ipython",
    "version": 3
   },
   "file_extension": ".py",
   "mimetype": "text/x-python",
   "name": "python",
   "nbconvert_exporter": "python",
   "pygments_lexer": "ipython3",
   "version": "3.8.11"
  }
 },
 "nbformat": 4,
 "nbformat_minor": 5
}
